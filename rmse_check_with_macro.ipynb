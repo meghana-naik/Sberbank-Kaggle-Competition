{
  "metadata": {
    "kernelspec": {
      "display_name": "Python 3",
      "language": "python",
      "name": "python3"
    },
    "language_info": {
      "codemirror_mode": {
        "name": "ipython",
        "version": 3
      },
      "file_extension": ".py",
      "mimetype": "text/x-python",
      "name": "python",
      "nbconvert_exporter": "python",
      "pygments_lexer": "ipython3",
      "version": "3.6.0"
    }
  },
  "nbformat": 4,
  "nbformat_minor": 0,
  "cells": [
    {
      "cell_type": "markdown",
      "source": "Submission - 1 without the macro.csv using linear regression. ",
      "metadata": {}
    },
    {
      "cell_type": "code",
      "source": "# This Python 3 environment comes with many helpful analytics libraries installed\n# It is defined by the kaggle/python docker image: https://github.com/kaggle/docker-python\n# For example, here's several helpful packages to load in \n\nimport numpy as np # linear algebra\nimport pandas as pd # data processing, CSV file I/O (e.g. pd.read_csv)\nimport matplotlib.pyplot as plt\nimport seaborn as sns\nimport xgboost as xgb\nfrom sklearn import preprocessing, model_selection\n%matplotlib inline\n\ncolor = sns.color_palette()\npd.options.mode.chained_assignment = None  # default='warn'\npd.set_option('display.max_columns', 500)\n\ntrain_df = pd.read_csv(\"../input/train.csv\", parse_dates=['timestamp'])\ntest_df = pd.read_csv(\"../input/test.csv\", parse_dates=['timestamp'])\nmacro_df = pd.read_csv(\"../input/macro.csv\", parse_dates=['timestamp'])\ntrain_df = pd.merge(train_df, macro_df, how = 'left', on = \"timestamp\")\ntest_df = pd.merge(test_df, macro_df, how = 'left', on = \"timestamp\")\nprint(train_df.shape , test_df.shape)\n",
      "execution_count": 15,
      "outputs": [
        {
          "name": "stdout",
          "output_type": "stream",
          "text": "(30471, 391) (7662, 390)\n"
        }
      ],
      "metadata": {}
    },
    {
      "cell_type": "code",
      "source": "# truncate the extreme values in price_doc #\nulimit = np.percentile(train_df.price_doc.values, 99)\nllimit = np.percentile(train_df.price_doc.values, 1)\ntrain_df['price_doc'].ix[train_df['price_doc']>ulimit] = ulimit\ntrain_df['price_doc'].ix[train_df['price_doc']<llimit] = llimit\nprint(train_df.shape , test_df.shape)",
      "execution_count": 16,
      "outputs": [
        {
          "name": "stdout",
          "output_type": "stream",
          "text": "(30471, 391) (7662, 390)\n"
        }
      ],
      "metadata": {}
    },
    {
      "cell_type": "code",
      "source": "for f in train_df.columns:\n    if train_df[f].dtype=='object':\n        print(f)\n        lbl = preprocessing.LabelEncoder()\n        lbl.fit(list(train_df[f].values.astype('str')) + list(test_df[f].values.astype('str')))\n        train_df[f] = lbl.transform(list(train_df[f].values.astype('str')))\n        test_df[f] = lbl.transform(list(test_df[f].values.astype('str')))",
      "execution_count": 17,
      "outputs": [
        {
          "name": "stdout",
          "output_type": "stream",
          "text": "product_type\nsub_area\nculture_objects_top_25\nthermal_power_plant_raion\nincineration_raion\noil_chemistry_raion\nradiation_raion\nrailroad_terminal_raion\nbig_market_raion\nnuclear_reactor_raion\ndetention_facility_raion\nwater_1line\nbig_road1_1line\nrailroad_1line\n\necology\nchild_on_acc_pre_school\nmodern_education_share\nold_education_build_share\n"
        }
      ],
      "metadata": {}
    },
    {
      "cell_type": "code",
      "source": "train_df[\"null_count\"] = train_df.isnull().sum(axis=1)\ntest_df[\"null_count\"] = test_df.isnull().sum(axis=1)",
      "execution_count": 18,
      "outputs": [],
      "metadata": {}
    },
    {
      "cell_type": "code",
      "source": "train_df.fillna(-99, inplace=True)\ntest_df.fillna(-99, inplace=True)",
      "execution_count": 19,
      "outputs": [],
      "metadata": {}
    },
    {
      "cell_type": "code",
      "source": "# year and month #\ntrain_df[\"yearmonth\"] = train_df[\"timestamp\"].dt.year*100 + train_df[\"timestamp\"].dt.month\ntest_df[\"yearmonth\"] = test_df[\"timestamp\"].dt.year*100 + test_df[\"timestamp\"].dt.month\n\n# year and week #\ntrain_df[\"yearweek\"] = train_df[\"timestamp\"].dt.year*100 + train_df[\"timestamp\"].dt.weekofyear\ntest_df[\"yearweek\"] = test_df[\"timestamp\"].dt.year*100 + test_df[\"timestamp\"].dt.weekofyear\n\n# year #\ntrain_df[\"year\"] = train_df[\"timestamp\"].dt.year\ntest_df[\"year\"] = test_df[\"timestamp\"].dt.year",
      "execution_count": 20,
      "outputs": [],
      "metadata": {}
    },
    {
      "cell_type": "code",
      "source": "train_X.head(2)",
      "execution_count": null,
      "outputs": [],
      "metadata": {}
    },
    {
      "cell_type": "code",
      "source": "# implementing xgboost to check importance of each variable\ntrain_y = train_df.price_doc.values\ntrain_X = train_df.drop([\"id\", \"timestamp\", \"price_doc\"], axis=1)\ntest_X = test_df.drop([\"id\" , \"timestamp\"], axis =1)\n",
      "execution_count": 24,
      "outputs": [],
      "metadata": {}
    },
    {
      "cell_type": "code",
      "source": "from sklearn.model_selection import train_test_split\n\nt_X, val_X, t_y, val_y = train_test_split(train_X, train_y, test_size=0.30, random_state=42)",
      "execution_count": 25,
      "outputs": [],
      "metadata": {}
    },
    {
      "cell_type": "code",
      "source": "import xgboost as xgb\ndtrain = xgb.DMatrix(t_X, label = t_y)\ndtest = xgb.DMatrix(val_X)\n\nparams = {\"max_depth\":2, \"eta\":0.1}\nmodel = xgb.cv(params, dtrain,  num_boost_round=500, early_stopping_rounds=100)\nmodel.loc[30:,[\"test-rmse-mean\", \"train-rmse-mean\"]].plot()",
      "execution_count": 26,
      "outputs": [
        {
          "data": {
            "text/plain": "<matplotlib.axes._subplots.AxesSubplot at 0x7fe745131668>"
          },
          "execution_count": 26,
          "metadata": {},
          "output_type": "execute_result"
        },
        {
          "data": {
            "image/png": "[encoded data removed]",
            "text/plain": "<matplotlib.figure.Figure at 0x7fe745145a58>"
          },
          "metadata": {},
          "output_type": "display_data"
        }
      ],
      "metadata": {}
    },
    {
      "cell_type": "code",
      "source": "model_xgb = xgb.XGBRegressor(n_estimators=360, max_depth=2, learning_rate=0.1) #the params were tuned using xgb.cv\nmodel_xgb.fit(t_X, t_y)",
      "execution_count": 10,
      "outputs": [
        {
          "data": {
            "text/plain": "XGBRegressor(base_score=0.5, colsample_bylevel=1, colsample_bytree=1, gamma=0,\n       learning_rate=0.1, max_delta_step=0, max_depth=2,\n       min_child_weight=1, missing=None, n_estimators=360, nthread=-1,\n       objective='reg:linear', reg_alpha=0, reg_lambda=1,\n       scale_pos_weight=1, seed=0, silent=True, subsample=1)"
          },
          "execution_count": 10,
          "metadata": {},
          "output_type": "execute_result"
        }
      ],
      "metadata": {}
    },
    {
      "cell_type": "code",
      "source": "xgb_preds = model_xgb.predict(val_X)",
      "execution_count": 11,
      "outputs": [],
      "metadata": {}
    },
    {
      "cell_type": "code",
      "source": "from sklearn.metrics import mean_squared_error\n\nprint(mean_squared_error(val_y, xgb_preds))",
      "execution_count": 13,
      "outputs": [
        {
          "name": "stdout",
          "output_type": "stream",
          "text": "4.9332986911e+12\n"
        }
      ],
      "metadata": {}
    },
    {
      "cell_type": "code",
      "source": "solution = pd.DataFrame({\"id\":test_df.id, \"SalePrice\":xgb_preds})\nsolution.to_csv(\"pred_sol.csv\", index = False)",
      "execution_count": null,
      "outputs": [],
      "metadata": {}
    },
    {
      "cell_type": "code",
      "source": "solution.head(2)",
      "execution_count": null,
      "outputs": [],
      "metadata": {}
    }
  ]
}