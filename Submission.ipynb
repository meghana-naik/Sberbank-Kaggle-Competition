{
  "cells": [
    {
      "execution_count": null,
      "outputs": [],
      "cell_type": "markdown",
      "metadata": {
        "_uuid": "7ef8c51974e9c9ecb8ece37db239d0df6caa624d",
        "_cell_guid": "490d9eff-379d-6cb3-4cda-ffb5a288f715"
      },
      "source": "Submission with the macro.csv. "
    },
    {
      "metadata": {
        "_uuid": "d93ad51614a7cc080e547ac22a55b005359c5706",
        "_cell_guid": "5685ed38-7a0a-b195-7287-d1a987cf0279",
        "trusted": false,
        "_execution_state": "idle"
      },
      "outputs": [
        {
          "output_type": "stream",
          "name": "stdout",
          "text": "(30471, 292) (7662, 291)\n"
        }
      ],
      "cell_type": "code",
      "execution_count": 1,
      "source": [
        "# This Python 3 environment comes with many helpful analytics libraries installed\n",
        "# It is defined by the kaggle/python docker image: https://github.com/kaggle/docker-python\n",
        "# For example, here's several helpful packages to load in \n",
        "\n",
        "import numpy as np # linear algebra\n",
        "import pandas as pd # data processing, CSV file I/O (e.g. pd.read_csv)\n",
        "import matplotlib.pyplot as plt\n",
        "import seaborn as sns\n",
        "import xgboost as xgb\n",
        "from sklearn import preprocessing, model_selection\n",
        "%matplotlib inline\n",
        "\n",
        "color = sns.color_palette()\n",
        "pd.options.mode.chained_assignment = None  # default='warn'\n",
        "pd.set_option('display.max_columns', 500)\n",
        "\n",
        "train_df = pd.read_csv(\"../input/train.csv\", parse_dates=['timestamp'])\n",
        "test_df = pd.read_csv(\"../input/test.csv\", parse_dates=['timestamp'])\n",
        "#macro_df = pd.read_csv(\"../input/macro.csv\", parse_dates=['timestamp'])\n",
        "#train_df = pd.merge(train_df, macro_df, how = 'left', on = \"timestamp\")\n",
        "#test_df = pd.merge(test_df, macro_df, how = 'left, on = \"timestamp\")\n",
        "print(train_df.shape , test_df.shape)\n",
        "\n"
      ]
    },
    {
      "metadata": {
        "_uuid": "a4d199f4735f35b00840f0090f93c89b350ecc93",
        "_cell_guid": "2fa193a1-ca92-b44d-4ce0-a361b70ba863",
        "trusted": false,
        "_execution_state": "idle"
      },
      "outputs": [
        {
          "output_type": "stream",
          "name": "stdout",
          "text": "(30471, 292) (7662, 291)\n"
        },
        {
          "output_type": "stream",
          "name": "stderr",
          "text": "/opt/conda/lib/python3.6/site-packages/ipykernel_launcher.py:4: DeprecationWarning: \n.ix is deprecated. Please use\n.loc for label based indexing or\n.iloc for positional indexing\n\nSee the documentation here:\nhttp://pandas.pydata.org/pandas-docs/stable/indexing.html#deprecate_ix\n  after removing the cwd from sys.path.\n"
        }
      ],
      "cell_type": "code",
      "execution_count": 2,
      "source": "# truncate the extreme values in price_doc #\nulimit = np.percentile(train_df.price_doc.values, 99)\nllimit = np.percentile(train_df.price_doc.values, 1)\ntrain_df['price_doc'].ix[train_df['price_doc']>ulimit] = ulimit\ntrain_df['price_doc'].ix[train_df['price_doc']<llimit] = llimit\nprint(train_df.shape , test_df.shape)"
    },
    {
      "metadata": {
        "_uuid": "84d62dcd7a26f5e2dd5e4607fbe50ce9e388868e",
        "_cell_guid": "8142db5e-bdbf-df89-7d72-d4f78db599ae",
        "trusted": false,
        "_execution_state": "idle"
      },
      "outputs": [
        {
          "output_type": "stream",
          "name": "stdout",
          "text": "product_type\n"
        },
        {
          "output_type": "stream",
          "name": "stdout",
          "text": "sub_area\n"
        },
        {
          "output_type": "stream",
          "name": "stdout",
          "text": "culture_objects_top_25\nthermal_power_plant_raion"
        },
        {
          "output_type": "stream",
          "name": "stdout",
          "text": "\nincineration_raion\noil_chemistry_raion\n"
        },
        {
          "output_type": "stream",
          "name": "stdout",
          "text": "radiation_raion\nrailroad_terminal_raion"
        },
        {
          "output_type": "stream",
          "name": "stdout",
          "text": "\nbig_market_raion\n"
        },
        {
          "output_type": "stream",
          "name": "stdout",
          "text": "nuclear_reactor_raion\ndetention_facility_raion\n"
        },
        {
          "output_type": "stream",
          "name": "stdout",
          "text": "water_1line\nbig_road1_1line\n"
        },
        {
          "output_type": "stream",
          "name": "stdout",
          "text": "railroad_1line\necology\n"
        }
      ],
      "cell_type": "code",
      "execution_count": 3,
      "source": "for f in train_df.columns:\n    if train_df[f].dtype=='object':\n        print(f)\n        lbl = preprocessing.LabelEncoder()\n        lbl.fit(list(train_df[f].values.astype('str')) + list(test_df[f].values.astype('str')))\n        train_df[f] = lbl.transform(list(train_df[f].values.astype('str')))\n        test_df[f] = lbl.transform(list(test_df[f].values.astype('str')))"
    },
    {
      "metadata": {
        "_uuid": "903dc7f6ee4d39e04cb5dcdec7f13ee46411af83",
        "_cell_guid": "0c12fa35-0af4-d52a-45cf-5c356b65d5d2",
        "trusted": false,
        "_execution_state": "idle"
      },
      "outputs": [],
      "cell_type": "code",
      "execution_count": 4,
      "source": "train_df[\"null_count\"] = train_df.isnull().sum(axis=1)\ntest_df[\"null_count\"] = test_df.isnull().sum(axis=1)"
    },
    {
      "metadata": {
        "_uuid": "e61a9a7894463f81cff4482f1687d79f0fd50eac",
        "_cell_guid": "797657f0-cbec-44ff-e6c0-eb0fc46c4b29",
        "trusted": false,
        "_execution_state": "idle"
      },
      "outputs": [],
      "cell_type": "code",
      "execution_count": 5,
      "source": "train_df.fillna(-99, inplace=True)\ntest_df.fillna(-99, inplace=True)"
    },
    {
      "metadata": {
        "_uuid": "c021ade4eba56d3091c7c0612ae6206c672a970d",
        "_cell_guid": "cff08f87-6d19-fca5-dc06-4dbc2fc91ef0",
        "trusted": false,
        "_execution_state": "idle"
      },
      "outputs": [],
      "cell_type": "code",
      "execution_count": 6,
      "source": "# year and month #\ntrain_df[\"yearmonth\"] = train_df[\"timestamp\"].dt.year*100 + train_df[\"timestamp\"].dt.month\ntest_df[\"yearmonth\"] = test_df[\"timestamp\"].dt.year*100 + test_df[\"timestamp\"].dt.month\n\n# year and week #\ntrain_df[\"yearweek\"] = train_df[\"timestamp\"].dt.year*100 + train_df[\"timestamp\"].dt.weekofyear\ntest_df[\"yearweek\"] = test_df[\"timestamp\"].dt.year*100 + test_df[\"timestamp\"].dt.weekofyear\n\n# year #\ntrain_df[\"year\"] = train_df[\"timestamp\"].dt.year\ntest_df[\"year\"] = test_df[\"timestamp\"].dt.year\n"
    },
    {
      "metadata": {
        "_uuid": "a763bae44a1f371ef7485f1dd26a48c5576826d4",
        "_cell_guid": "b0ad6eea-fbf9-4749-bd49-aa71509068ee",
        "trusted": false,
        "_execution_state": "idle"
      },
      "outputs": [],
      "cell_type": "code",
      "execution_count": 7,
      "source": "# year and month #\ntrain_df[\"yearmonth\"] = train_df[\"timestamp\"].dt.year*100 + train_df[\"timestamp\"].dt.month\ntest_df[\"yearmonth\"] = test_df[\"timestamp\"].dt.year*100 + test_df[\"timestamp\"].dt.month\n\n# year and week #\ntrain_df[\"yearweek\"] = train_df[\"timestamp\"].dt.year*100 + train_df[\"timestamp\"].dt.weekofyear\ntest_df[\"yearweek\"] = test_df[\"timestamp\"].dt.year*100 + test_df[\"timestamp\"].dt.weekofyear\n\n# year #\ntrain_df[\"year\"] = train_df[\"timestamp\"].dt.year\ntest_df[\"year\"] = test_df[\"timestamp\"].dt.year\n\n"
    },
    {
      "metadata": {
        "_uuid": "ae2bac61f4cba959542b5b924d7d40d3a483fce2",
        "_cell_guid": "7181ad48-6b81-b69d-5695-7d991c918b43",
        "trusted": false,
        "_execution_state": "idle"
      },
      "outputs": [],
      "cell_type": "code",
      "execution_count": 9,
      "source": [
        "# implementing xgboost to check importance of each variable\n",
        "train_y = train_df.price_doc.values\n",
        "train_X = train_df.drop([\"id\", \"timestamp\", \"price_doc\"], axis=1)\n",
        "test_X = test_df.drop([\"id\" , \"timestamp\"], axis =1)\n",
        "\n"
      ]
    },
    {
      "metadata": {
        "_uuid": "9a6a114002159527304749dd67ee90e1675f2f6e",
        "_cell_guid": "93fc0528-2ce6-14ec-8e09-df8e18c59776",
        "trusted": false,
        "_execution_state": "idle"
      },
      "outputs": [
        {
          "output_type": "execute_result",
          "data": {
            "text/plain": "<matplotlib.axes._subplots.AxesSubplot at 0x7f2f3e9e8b38>"
          },
          "metadata": {},
          "execution_count": 10
        },
        {
          "output_type": "display_data",
          "data": {
            "text/plain": "<matplotlib.figure.Figure at 0x7f2f5624c7b8>",
            "image/png": "[encoded data removed]"
          },
          "metadata": {},
          "transient": {}
        }
      ],
      "cell_type": "code",
      "execution_count": 10,
      "source": [
        "import xgboost as xgb\n",
        "dtrain = xgb.DMatrix(train_X, label = train_y)\n",
        "dtest = xgb.DMatrix(test_X)\n",
        "\n",
        "params = {\"max_depth\":2, \"eta\":0.1}\n",
        "model = xgb.cv(params, dtrain,  num_boost_round=500, early_stopping_rounds=100)\n",
        "model.loc[30:,[\"test-rmse-mean\", \"train-rmse-mean\"]].plot()"
      ]
    },
    {
      "metadata": {
        "_uuid": "9998b48d974871cf85d0e87fa6e40cd4dbefbb9e",
        "_cell_guid": "6c68dd31-19a2-eac6-3620-0b634e6f6797",
        "trusted": false,
        "_execution_state": "idle"
      },
      "outputs": [
        {
          "output_type": "execute_result",
          "data": {
            "text/plain": "XGBRegressor(base_score=0.5, booster='gbtree', colsample_bylevel=1,\n       colsample_bytree=1, gamma=0, learning_rate=0.1, max_delta_step=0,\n       max_depth=2, min_child_weight=1, missing=None, n_estimators=360,\n       n_jobs=1, nthread=None, objective='reg:linear', random_state=0,\n       reg_alpha=0, reg_lambda=1, scale_pos_weight=1, seed=None,\n       silent=True, subsample=1)"
          },
          "metadata": {},
          "execution_count": 11
        }
      ],
      "cell_type": "code",
      "execution_count": 11,
      "source": [
        "model_xgb = xgb.XGBRegressor(n_estimators=360, max_depth=2, learning_rate=0.1) #the params were tuned using xgb.cv\n",
        "model_xgb.fit(train_X, train_y)\n"
      ]
    },
    {
      "metadata": {
        "_uuid": "eb1b889bfae77e99578075934e621e886c769c3d",
        "_cell_guid": "20fd5341-a26e-e11f-a253-2981672b5933",
        "trusted": false,
        "_execution_state": "idle"
      },
      "outputs": [],
      "cell_type": "code",
      "execution_count": 12,
      "source": [
        "xgb_preds = model_xgb.predict(test_X)"
      ]
    },
    {
      "metadata": {
        "_uuid": "dde3169e725af01742c994ea57c1a15ddeaf3e72",
        "_cell_guid": "075fef17-2432-f708-ac5a-7984590c85a1",
        "trusted": false,
        "_execution_state": "idle"
      },
      "outputs": [],
      "cell_type": "code",
      "execution_count": 13,
      "source": [
        "solution = pd.DataFrame({\"id\":test_df.id, \"price_doc\":xgb_preds})\n",
        "solution.to_csv(\"pred_sol.csv\", index = False)"
      ]
    },
    {
      "metadata": {
        "_uuid": "bc9fca394403176193143c4e3e7ad810b606d263",
        "_cell_guid": "9ede02c5-7d3f-64f2-1bc5-0317b1ec42ab",
        "trusted": false,
        "_execution_state": "idle"
      },
      "outputs": [
        {
          "output_type": "execute_result",
          "data": {
            "text/plain": "(7662, 2)"
          },
          "metadata": {},
          "execution_count": 14
        }
      ],
      "cell_type": "code",
      "execution_count": 14,
      "source": [
        "solution.shape"
      ]
    }
  ],
  "nbformat_minor": 0,
  "nbformat": 4,
  "metadata": {
    "_change_revision": 0,
    "_is_fork": false,
    "kernelspec": {
      "display_name": "Python 3",
      "language": "python",
      "name": "python3"
    },
    "language_info": {
      "name": "python",
      "version": "3.6.1",
      "mimetype": "text/x-python",
      "codemirror_mode": {
        "name": "ipython",
        "version": 3
      },
      "pygments_lexer": "ipython3",
      "nbconvert_exporter": "python",
      "file_extension": ".py"
    }
  }
}